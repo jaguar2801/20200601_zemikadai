{
 "cells": [
  {
   "cell_type": "markdown",
   "metadata": {},
   "source": [
    "# 5/18にやったジムのデータを使って、前処理も同じことをやっている"
   ]
  },
  {
   "cell_type": "code",
   "execution_count": 1,
   "metadata": {},
   "outputs": [
    {
     "data": {
      "text/html": [
       "<div>\n",
       "<style scoped>\n",
       "    .dataframe tbody tr th:only-of-type {\n",
       "        vertical-align: middle;\n",
       "    }\n",
       "\n",
       "    .dataframe tbody tr th {\n",
       "        vertical-align: top;\n",
       "    }\n",
       "\n",
       "    .dataframe thead th {\n",
       "        text-align: right;\n",
       "    }\n",
       "</style>\n",
       "<table border=\"1\" class=\"dataframe\">\n",
       "  <thead>\n",
       "    <tr style=\"text-align: right;\">\n",
       "      <th></th>\n",
       "      <th>count_1</th>\n",
       "      <th>routine_flg</th>\n",
       "      <th>period</th>\n",
       "      <th>campaign_name_入会費半額</th>\n",
       "      <th>campaign_name_入会費無料</th>\n",
       "      <th>class_name_オールタイム</th>\n",
       "      <th>class_name_デイタイム</th>\n",
       "      <th>gender_F</th>\n",
       "    </tr>\n",
       "  </thead>\n",
       "  <tbody>\n",
       "    <tr>\n",
       "      <th>0</th>\n",
       "      <td>3</td>\n",
       "      <td>0</td>\n",
       "      <td>2</td>\n",
       "      <td>0</td>\n",
       "      <td>0</td>\n",
       "      <td>1</td>\n",
       "      <td>0</td>\n",
       "      <td>0</td>\n",
       "    </tr>\n",
       "    <tr>\n",
       "      <th>1</th>\n",
       "      <td>3</td>\n",
       "      <td>1</td>\n",
       "      <td>6</td>\n",
       "      <td>0</td>\n",
       "      <td>0</td>\n",
       "      <td>1</td>\n",
       "      <td>0</td>\n",
       "      <td>0</td>\n",
       "    </tr>\n",
       "    <tr>\n",
       "      <th>2</th>\n",
       "      <td>3</td>\n",
       "      <td>0</td>\n",
       "      <td>11</td>\n",
       "      <td>0</td>\n",
       "      <td>0</td>\n",
       "      <td>1</td>\n",
       "      <td>0</td>\n",
       "      <td>0</td>\n",
       "    </tr>\n",
       "    <tr>\n",
       "      <th>3</th>\n",
       "      <td>3</td>\n",
       "      <td>0</td>\n",
       "      <td>3</td>\n",
       "      <td>0</td>\n",
       "      <td>0</td>\n",
       "      <td>1</td>\n",
       "      <td>0</td>\n",
       "      <td>0</td>\n",
       "    </tr>\n",
       "    <tr>\n",
       "      <th>4</th>\n",
       "      <td>4</td>\n",
       "      <td>0</td>\n",
       "      <td>8</td>\n",
       "      <td>0</td>\n",
       "      <td>0</td>\n",
       "      <td>0</td>\n",
       "      <td>0</td>\n",
       "      <td>1</td>\n",
       "    </tr>\n",
       "  </tbody>\n",
       "</table>\n",
       "</div>"
      ],
      "text/plain": [
       "   count_1  routine_flg  period  campaign_name_入会費半額  campaign_name_入会費無料  \\\n",
       "0        3            0       2                    0                    0   \n",
       "1        3            1       6                    0                    0   \n",
       "2        3            0      11                    0                    0   \n",
       "3        3            0       3                    0                    0   \n",
       "4        4            0       8                    0                    0   \n",
       "\n",
       "   class_name_オールタイム  class_name_デイタイム  gender_F  \n",
       "0                  1                 0         0  \n",
       "1                  1                 0         0  \n",
       "2                  1                 0         0  \n",
       "3                  1                 0         0  \n",
       "4                  0                 0         1  "
      ]
     },
     "execution_count": 1,
     "metadata": {},
     "output_type": "execute_result"
    }
   ],
   "source": [
    "import pandas as pd\n",
    "\n",
    "kadai2X = pd.read_csv('kadai2X.csv')\n",
    "kadai2y = pd.read_csv('kadai2y.csv')\n",
    "kadai2X.head()"
   ]
  },
  {
   "cell_type": "code",
   "execution_count": 2,
   "metadata": {},
   "outputs": [
    {
     "data": {
      "text/html": [
       "<div>\n",
       "<style scoped>\n",
       "    .dataframe tbody tr th:only-of-type {\n",
       "        vertical-align: middle;\n",
       "    }\n",
       "\n",
       "    .dataframe tbody tr th {\n",
       "        vertical-align: top;\n",
       "    }\n",
       "\n",
       "    .dataframe thead th {\n",
       "        text-align: right;\n",
       "    }\n",
       "</style>\n",
       "<table border=\"1\" class=\"dataframe\">\n",
       "  <thead>\n",
       "    <tr style=\"text-align: right;\">\n",
       "      <th></th>\n",
       "      <th>is_deleted</th>\n",
       "    </tr>\n",
       "  </thead>\n",
       "  <tbody>\n",
       "    <tr>\n",
       "      <th>0</th>\n",
       "      <td>1</td>\n",
       "    </tr>\n",
       "    <tr>\n",
       "      <th>1</th>\n",
       "      <td>1</td>\n",
       "    </tr>\n",
       "    <tr>\n",
       "      <th>2</th>\n",
       "      <td>1</td>\n",
       "    </tr>\n",
       "    <tr>\n",
       "      <th>3</th>\n",
       "      <td>1</td>\n",
       "    </tr>\n",
       "    <tr>\n",
       "      <th>4</th>\n",
       "      <td>1</td>\n",
       "    </tr>\n",
       "  </tbody>\n",
       "</table>\n",
       "</div>"
      ],
      "text/plain": [
       "   is_deleted\n",
       "0           1\n",
       "1           1\n",
       "2           1\n",
       "3           1\n",
       "4           1"
      ]
     },
     "execution_count": 2,
     "metadata": {},
     "output_type": "execute_result"
    }
   ],
   "source": [
    "kadai2y.head()"
   ]
  },
  {
   "cell_type": "code",
   "execution_count": 3,
   "metadata": {},
   "outputs": [],
   "source": [
    "from sklearn.model_selection import train_test_split\n",
    "X_train, X_test, y_train, y_test = train_test_split(kadai2X, kadai2y, random_state = 1)\n",
    "\n",
    "\n",
    "from sklearn.preprocessing import MinMaxScaler\n",
    "scaler = MinMaxScaler()\n",
    "X_train_s = scaler.fit(X_train).transform(X_train)\n",
    "X_test_s = scaler.transform(X_test)"
   ]
  },
  {
   "cell_type": "markdown",
   "metadata": {},
   "source": [
    "## ロジスティック回帰"
   ]
  },
  {
   "cell_type": "code",
   "execution_count": 4,
   "metadata": {},
   "outputs": [
    {
     "name": "stderr",
     "output_type": "stream",
     "text": [
      "C:\\Users\\jagua\\Anaconda3\\lib\\site-packages\\sklearn\\utils\\validation.py:578: DataConversionWarning: A column-vector y was passed when a 1d array was expected. Please change the shape of y to (n_samples, ), for example using ravel().\n",
      "  y = column_or_1d(y, warn=True)\n"
     ]
    },
    {
     "data": {
      "text/plain": [
       "0.9277566539923955"
      ]
     },
     "execution_count": 4,
     "metadata": {},
     "output_type": "execute_result"
    }
   ],
   "source": [
    "from sklearn.linear_model import LogisticRegression as LR \n",
    "#トレーニング\n",
    "logreg = LR(C=1, penalty=\"l1\").fit(X_train_s, y_train) \n",
    "\n",
    "#テスト\n",
    "y_pred = logreg.predict(X_test_s) \n",
    "\n",
    "logreg.score(X_test_s,y_test)"
   ]
  },
  {
   "cell_type": "code",
   "execution_count": 5,
   "metadata": {},
   "outputs": [
    {
     "name": "stdout",
     "output_type": "stream",
     "text": [
      "[[255  11]\n",
      " [ 27 233]]\n"
     ]
    }
   ],
   "source": [
    "from sklearn.metrics import confusion_matrix as CM\n",
    "print('{}'.format(CM(y_test,y_pred)))"
   ]
  },
  {
   "cell_type": "code",
   "execution_count": 6,
   "metadata": {},
   "outputs": [
    {
     "name": "stdout",
     "output_type": "stream",
     "text": [
      "             precision    recall  f1-score   support\n",
      "\n",
      "          0       0.90      0.96      0.93       266\n",
      "          1       0.95      0.90      0.92       260\n",
      "\n",
      "avg / total       0.93      0.93      0.93       526\n",
      "\n"
     ]
    }
   ],
   "source": [
    "from sklearn.metrics import classification_report as CR\n",
    "print(\"{}\".format(CR(y_test, y_pred)))    # 混同行列 # is_deleted = 0: 継続、1: 退会（教師データ）"
   ]
  },
  {
   "cell_type": "markdown",
   "metadata": {},
   "source": [
    "## ニューラルネットワーク"
   ]
  },
  {
   "cell_type": "code",
   "execution_count": 7,
   "metadata": {},
   "outputs": [
    {
     "name": "stderr",
     "output_type": "stream",
     "text": [
      "C:\\Users\\jagua\\Anaconda3\\lib\\site-packages\\sklearn\\neural_network\\multilayer_perceptron.py:912: DataConversionWarning: A column-vector y was passed when a 1d array was expected. Please change the shape of y to (n_samples, ), for example using ravel().\n",
      "  y = column_or_1d(y, warn=True)\n"
     ]
    },
    {
     "name": "stdout",
     "output_type": "stream",
     "text": [
      "Iteration 1, loss = 0.70002261\n",
      "Iteration 2, loss = 0.67817446\n",
      "Iteration 3, loss = 0.65762233\n",
      "Iteration 4, loss = 0.63695522\n",
      "Iteration 5, loss = 0.61615647\n",
      "Iteration 6, loss = 0.59527107\n",
      "Iteration 7, loss = 0.57423260\n",
      "Iteration 8, loss = 0.55209898\n",
      "Iteration 9, loss = 0.53032456\n",
      "Iteration 10, loss = 0.50893111\n",
      "Iteration 11, loss = 0.48890146\n",
      "Iteration 12, loss = 0.47005915\n",
      "Iteration 13, loss = 0.45262369\n",
      "Iteration 14, loss = 0.43630585\n",
      "Iteration 15, loss = 0.42272163\n",
      "Iteration 16, loss = 0.40946951\n",
      "Iteration 17, loss = 0.39789245\n",
      "Iteration 18, loss = 0.38659866\n",
      "Iteration 19, loss = 0.37630224\n",
      "Iteration 20, loss = 0.36640075\n",
      "Iteration 21, loss = 0.35722643\n",
      "Iteration 22, loss = 0.34856536\n",
      "Iteration 23, loss = 0.34032622\n",
      "Iteration 24, loss = 0.33231920\n",
      "Iteration 25, loss = 0.32479976\n",
      "Iteration 26, loss = 0.31774499\n",
      "Iteration 27, loss = 0.31048393\n",
      "Iteration 28, loss = 0.30416559\n",
      "Iteration 29, loss = 0.29747634\n",
      "Iteration 30, loss = 0.29205410\n",
      "Iteration 31, loss = 0.28591529\n",
      "Iteration 32, loss = 0.28086977\n",
      "Iteration 33, loss = 0.27588919\n",
      "Iteration 34, loss = 0.27056907\n",
      "Iteration 35, loss = 0.26594329\n",
      "Iteration 36, loss = 0.26136220\n",
      "Iteration 37, loss = 0.25696257\n",
      "Iteration 38, loss = 0.25304544\n",
      "Iteration 39, loss = 0.24951640\n",
      "Iteration 40, loss = 0.24609601\n",
      "Iteration 41, loss = 0.24356937\n",
      "Iteration 42, loss = 0.23978127\n",
      "Iteration 43, loss = 0.23775198\n",
      "Iteration 44, loss = 0.23485456\n",
      "Iteration 45, loss = 0.23237652\n",
      "Iteration 46, loss = 0.23010445\n",
      "Iteration 47, loss = 0.22842426\n",
      "Iteration 48, loss = 0.22604119\n",
      "Iteration 49, loss = 0.22432808\n",
      "Iteration 50, loss = 0.22254841\n",
      "Iteration 51, loss = 0.22077906\n",
      "Iteration 52, loss = 0.21922621\n",
      "Iteration 53, loss = 0.21831345\n",
      "Iteration 54, loss = 0.21662920\n",
      "Iteration 55, loss = 0.21556155\n",
      "Iteration 56, loss = 0.21395962\n",
      "Iteration 57, loss = 0.21344839\n",
      "Iteration 58, loss = 0.21199759\n",
      "Iteration 59, loss = 0.21074899\n",
      "Iteration 60, loss = 0.21005813\n"
     ]
    },
    {
     "name": "stderr",
     "output_type": "stream",
     "text": [
      "C:\\Users\\jagua\\Anaconda3\\lib\\site-packages\\sklearn\\neural_network\\multilayer_perceptron.py:564: ConvergenceWarning: Stochastic Optimizer: Maximum iterations (60) reached and the optimization hasn't converged yet.\n",
      "  % self.max_iter, ConvergenceWarning)\n"
     ]
    }
   ],
   "source": [
    "from sklearn.neural_network import MLPClassifier as MLP \n",
    "mlpclf = MLP(hidden_layer_sizes=(100), activation='relu', solver='adam', alpha=0.01,\n",
    "             verbose=True, max_iter=60)\n",
    "\n",
    "history = mlpclf.fit(X_train_s, y_train) \n",
    "\n",
    "y_pred_n=mlpclf.predict(X_test_s)"
   ]
  },
  {
   "cell_type": "code",
   "execution_count": 8,
   "metadata": {},
   "outputs": [
    {
     "data": {
      "text/plain": [
       "0.9296577946768061"
      ]
     },
     "execution_count": 8,
     "metadata": {},
     "output_type": "execute_result"
    }
   ],
   "source": [
    "history.score(X_test_s,y_test)"
   ]
  },
  {
   "cell_type": "code",
   "execution_count": 9,
   "metadata": {},
   "outputs": [
    {
     "name": "stdout",
     "output_type": "stream",
     "text": [
      "[[255  11]\n",
      " [ 26 234]]\n"
     ]
    }
   ],
   "source": [
    "print('{}'.format(CM(y_test,y_pred_n)))"
   ]
  },
  {
   "cell_type": "code",
   "execution_count": 10,
   "metadata": {},
   "outputs": [
    {
     "name": "stdout",
     "output_type": "stream",
     "text": [
      "             precision    recall  f1-score   support\n",
      "\n",
      "          0       0.91      0.96      0.93       266\n",
      "          1       0.96      0.90      0.93       260\n",
      "\n",
      "avg / total       0.93      0.93      0.93       526\n",
      "\n"
     ]
    }
   ],
   "source": [
    "print(\"{}\".format(CR(y_test,y_pred_n)))"
   ]
  },
  {
   "cell_type": "markdown",
   "metadata": {},
   "source": [
    "## SVM\n"
   ]
  },
  {
   "cell_type": "code",
   "execution_count": 11,
   "metadata": {},
   "outputs": [
    {
     "name": "stderr",
     "output_type": "stream",
     "text": [
      "C:\\Users\\jagua\\Anaconda3\\lib\\site-packages\\sklearn\\utils\\validation.py:578: DataConversionWarning: A column-vector y was passed when a 1d array was expected. Please change the shape of y to (n_samples, ), for example using ravel().\n",
      "  y = column_or_1d(y, warn=True)\n"
     ]
    },
    {
     "data": {
      "text/plain": [
       "0.935361216730038"
      ]
     },
     "execution_count": 11,
     "metadata": {},
     "output_type": "execute_result"
    }
   ],
   "source": [
    "from sklearn.svm import SVC\n",
    "\n",
    "svm = SVC(kernel='rbf',gamma=1.5,C=15)#カーネルは動径基底関数カーネル\n",
    "svm.fit(X_train_s,y_train)\n",
    "y_pred_s=svm.predict(X_test_s)\n",
    "svm.score(X_test_s,y_test)"
   ]
  },
  {
   "cell_type": "code",
   "execution_count": 12,
   "metadata": {},
   "outputs": [
    {
     "name": "stdout",
     "output_type": "stream",
     "text": [
      "[[260   6]\n",
      " [ 28 232]]\n"
     ]
    }
   ],
   "source": [
    "print('{}'.format(CM(y_test,y_pred_s)))"
   ]
  },
  {
   "cell_type": "code",
   "execution_count": 13,
   "metadata": {},
   "outputs": [
    {
     "name": "stdout",
     "output_type": "stream",
     "text": [
      "             precision    recall  f1-score   support\n",
      "\n",
      "          0       0.90      0.98      0.94       266\n",
      "          1       0.97      0.89      0.93       260\n",
      "\n",
      "avg / total       0.94      0.94      0.94       526\n",
      "\n"
     ]
    }
   ],
   "source": [
    "print('{}'.format(CR(y_test,y_pred_s)))"
   ]
  }
 ],
 "metadata": {
  "kernelspec": {
   "display_name": "Python 3",
   "language": "python",
   "name": "python3"
  },
  "language_info": {
   "codemirror_mode": {
    "name": "ipython",
    "version": 3
   },
   "file_extension": ".py",
   "mimetype": "text/x-python",
   "name": "python",
   "nbconvert_exporter": "python",
   "pygments_lexer": "ipython3",
   "version": "3.7.0"
  }
 },
 "nbformat": 4,
 "nbformat_minor": 2
}
